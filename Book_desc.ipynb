{
  "nbformat": 4,
  "nbformat_minor": 0,
  "metadata": {
    "colab": {
      "name": "Book-desc.ipynb",
      "provenance": [],
      "collapsed_sections": [],
      "mount_file_id": "10VYnR_0rWAamybziucMiPNceDct-qi-j",
      "authorship_tag": "ABX9TyO808BanUEBvZt8lee9zY+d",
      "include_colab_link": true
    },
    "kernelspec": {
      "name": "python3",
      "display_name": "Python 3"
    },
    "language_info": {
      "name": "python"
    }
  },
  "cells": [
    {
      "cell_type": "markdown",
      "metadata": {
        "id": "view-in-github",
        "colab_type": "text"
      },
      "source": [
        "<a href=\"https://colab.research.google.com/github/knmehta12/Kitabe/blob/book_description_WIP/Book_desc.ipynb\" target=\"_parent\"><img src=\"https://colab.research.google.com/assets/colab-badge.svg\" alt=\"Open In Colab\"/></a>"
      ]
    },
    {
      "cell_type": "code",
      "metadata": {
        "id": "KSi03Q5G-6lA"
      },
      "source": [
        "import pandas as pd\n",
        "import numpy as np\n",
        "import pandas as pd\n",
        "import numpy as np\n",
        "from nltk.corpus import stopwords\n",
        "from sklearn.metrics.pairwise import linear_kernel\n",
        "from sklearn.feature_extraction.text import CountVectorizer\n",
        "from sklearn.feature_extraction.text import TfidfVectorizer\n",
        "from nltk.tokenize import RegexpTokenizer\n",
        "import re\n",
        "import string\n",
        "import random\n",
        "from PIL import Image\n",
        "import requests\n",
        "from io import BytesIO\n",
        "import matplotlib.pyplot as plt\n",
        "%matplotlib inline\n",
        "from sklearn.metrics.pairwise import cosine_similarity\n",
        "import nltk\n"
      ],
      "execution_count": null,
      "outputs": []
    },
    {
      "cell_type": "code",
      "metadata": {
        "id": "dy4v5r_tBzoe"
      },
      "source": [
        ""
      ],
      "execution_count": null,
      "outputs": []
    },
    {
      "cell_type": "code",
      "metadata": {
        "colab": {
          "base_uri": "https://localhost:8080/"
        },
        "id": "M8UdZACmBxBn",
        "outputId": "dd5df270-2db9-4e1b-ead8-e9943aa57f21"
      },
      "source": [
        "nltk.download('stopwords')"
      ],
      "execution_count": null,
      "outputs": [
        {
          "output_type": "stream",
          "text": [
            "[nltk_data] Downloading package stopwords to /root/nltk_data...\n",
            "[nltk_data]   Package stopwords is already up-to-date!\n"
          ],
          "name": "stdout"
        },
        {
          "output_type": "execute_result",
          "data": {
            "text/plain": [
              "True"
            ]
          },
          "metadata": {
            "tags": []
          },
          "execution_count": 30
        }
      ]
    },
    {
      "cell_type": "code",
      "metadata": {
        "id": "IQw2Dosy_LTN"
      },
      "source": [
        "desc = pd.read_csv('/content/drive/MyDrive/desc.csv')"
      ],
      "execution_count": null,
      "outputs": []
    },
    {
      "cell_type": "code",
      "metadata": {
        "id": "udVgyn7pAWsm"
      },
      "source": [
        "df=pd.read_csv('/content/drive/MyDrive/Books/books.csv')"
      ],
      "execution_count": null,
      "outputs": []
    },
    {
      "cell_type": "code",
      "metadata": {
        "id": "NyhYSFG4BN7k"
      },
      "source": [
        "df['desc']=desc['desc']"
      ],
      "execution_count": null,
      "outputs": []
    },
    {
      "cell_type": "code",
      "metadata": {
        "colab": {
          "base_uri": "https://localhost:8080/"
        },
        "id": "EmaRag_XBWnD",
        "outputId": "5f799022-435a-4c6e-bf4d-64d4b66c14b0"
      },
      "source": [
        "df.head()"
      ],
      "execution_count": null,
      "outputs": [
        {
          "output_type": "execute_result",
          "data": {
            "text/html": [
              "<div>\n",
              "<style scoped>\n",
              "    .dataframe tbody tr th:only-of-type {\n",
              "        vertical-align: middle;\n",
              "    }\n",
              "\n",
              "    .dataframe tbody tr th {\n",
              "        vertical-align: top;\n",
              "    }\n",
              "\n",
              "    .dataframe thead th {\n",
              "        text-align: right;\n",
              "    }\n",
              "</style>\n",
              "<table border=\"1\" class=\"dataframe\">\n",
              "  <thead>\n",
              "    <tr style=\"text-align: right;\">\n",
              "      <th></th>\n",
              "      <th>Unnamed: 0</th>\n",
              "      <th>r_index</th>\n",
              "      <th>book_id</th>\n",
              "      <th>authors</th>\n",
              "      <th>original_title</th>\n",
              "      <th>image_url</th>\n",
              "      <th>average_rating</th>\n",
              "      <th>ratings_count</th>\n",
              "      <th>genre</th>\n",
              "      <th>desc</th>\n",
              "    </tr>\n",
              "  </thead>\n",
              "  <tbody>\n",
              "    <tr>\n",
              "      <th>0</th>\n",
              "      <td>0</td>\n",
              "      <td>1</td>\n",
              "      <td>2767052</td>\n",
              "      <td>Suzanne Collins</td>\n",
              "      <td>The Hunger Games</td>\n",
              "      <td>https://images.gr-assets.com/books/1447303603l...</td>\n",
              "      <td>4.34</td>\n",
              "      <td>4780653</td>\n",
              "      <td>fiction, fantasy</td>\n",
              "      <td>In a future North America, where the rulers of...</td>\n",
              "    </tr>\n",
              "    <tr>\n",
              "      <th>1</th>\n",
              "      <td>1</td>\n",
              "      <td>2</td>\n",
              "      <td>3</td>\n",
              "      <td>J.K. Rowling, Mary GrandPré</td>\n",
              "      <td>Harry Potter and the Philosopher's Stone</td>\n",
              "      <td>https://images.gr-assets.com/books/1474154022l...</td>\n",
              "      <td>4.44</td>\n",
              "      <td>4602479</td>\n",
              "      <td>fantasy, fiction</td>\n",
              "      <td>Rescued from the outrageous neglect of his aun...</td>\n",
              "    </tr>\n",
              "    <tr>\n",
              "      <th>2</th>\n",
              "      <td>2</td>\n",
              "      <td>3</td>\n",
              "      <td>41865</td>\n",
              "      <td>Stephenie Meyer</td>\n",
              "      <td>Twilight</td>\n",
              "      <td>https://images.gr-assets.com/books/1361039443l...</td>\n",
              "      <td>3.57</td>\n",
              "      <td>3866839</td>\n",
              "      <td>fantasy, fiction</td>\n",
              "      <td>With 160 million copies of the Twilight Saga s...</td>\n",
              "    </tr>\n",
              "    <tr>\n",
              "      <th>3</th>\n",
              "      <td>3</td>\n",
              "      <td>4</td>\n",
              "      <td>2657</td>\n",
              "      <td>Harper Lee</td>\n",
              "      <td>To Kill a Mockingbird</td>\n",
              "      <td>https://images.gr-assets.com/books/1361975680l...</td>\n",
              "      <td>4.25</td>\n",
              "      <td>3198671</td>\n",
              "      <td>classics, fiction</td>\n",
              "      <td>The unforgettable novel of a childhood in a sl...</td>\n",
              "    </tr>\n",
              "    <tr>\n",
              "      <th>4</th>\n",
              "      <td>4</td>\n",
              "      <td>5</td>\n",
              "      <td>4671</td>\n",
              "      <td>F. Scott Fitzgerald</td>\n",
              "      <td>The Great Gatsby</td>\n",
              "      <td>https://images.gr-assets.com/books/1490528560l...</td>\n",
              "      <td>3.89</td>\n",
              "      <td>2683664</td>\n",
              "      <td>classics, fiction</td>\n",
              "      <td>A young man newly rich tries to recapture the ...</td>\n",
              "    </tr>\n",
              "  </tbody>\n",
              "</table>\n",
              "</div>"
            ],
            "text/plain": [
              "   Unnamed: 0  ...                                               desc\n",
              "0           0  ...  In a future North America, where the rulers of...\n",
              "1           1  ...  Rescued from the outrageous neglect of his aun...\n",
              "2           2  ...  With 160 million copies of the Twilight Saga s...\n",
              "3           3  ...  The unforgettable novel of a childhood in a sl...\n",
              "4           4  ...  A young man newly rich tries to recapture the ...\n",
              "\n",
              "[5 rows x 10 columns]"
            ]
          },
          "metadata": {
            "tags": []
          },
          "execution_count": 34
        }
      ]
    },
    {
      "cell_type": "code",
      "metadata": {
        "colab": {
          "base_uri": "https://localhost:8080/",
          "height": 484
        },
        "id": "1rA1tBRLml9v",
        "outputId": "76a75215-1a24-4b88-9e13-099340f3d3d7"
      },
      "source": [
        "df.tail()"
      ],
      "execution_count": null,
      "outputs": [
        {
          "output_type": "execute_result",
          "data": {
            "text/html": [
              "<div>\n",
              "<style scoped>\n",
              "    .dataframe tbody tr th:only-of-type {\n",
              "        vertical-align: middle;\n",
              "    }\n",
              "\n",
              "    .dataframe tbody tr th {\n",
              "        vertical-align: top;\n",
              "    }\n",
              "\n",
              "    .dataframe thead th {\n",
              "        text-align: right;\n",
              "    }\n",
              "</style>\n",
              "<table border=\"1\" class=\"dataframe\">\n",
              "  <thead>\n",
              "    <tr style=\"text-align: right;\">\n",
              "      <th></th>\n",
              "      <th>Unnamed: 0</th>\n",
              "      <th>r_index</th>\n",
              "      <th>book_id</th>\n",
              "      <th>authors</th>\n",
              "      <th>original_title</th>\n",
              "      <th>image_url</th>\n",
              "      <th>average_rating</th>\n",
              "      <th>ratings_count</th>\n",
              "      <th>genre</th>\n",
              "      <th>desc</th>\n",
              "    </tr>\n",
              "  </thead>\n",
              "  <tbody>\n",
              "    <tr>\n",
              "      <th>9269</th>\n",
              "      <td>9269</td>\n",
              "      <td>9996</td>\n",
              "      <td>7130616</td>\n",
              "      <td>Ilona Andrews</td>\n",
              "      <td>Bayou Moon</td>\n",
              "      <td>https://images.gr-assets.com/books/1307445460l...</td>\n",
              "      <td>4.09</td>\n",
              "      <td>17204</td>\n",
              "      <td>fantasy, romance</td>\n",
              "      <td>When her parents vanish, Cerise Mar becomes tr...</td>\n",
              "    </tr>\n",
              "    <tr>\n",
              "      <th>9270</th>\n",
              "      <td>9270</td>\n",
              "      <td>9997</td>\n",
              "      <td>208324</td>\n",
              "      <td>Robert A. Caro</td>\n",
              "      <td>Means of Ascent</td>\n",
              "      <td>https://i.gr-assets.com/images/S/compressed.ph...</td>\n",
              "      <td>4.25</td>\n",
              "      <td>12582</td>\n",
              "      <td>biography, history</td>\n",
              "      <td>Traces Johnson's life from his Texas childhood...</td>\n",
              "    </tr>\n",
              "    <tr>\n",
              "      <th>9271</th>\n",
              "      <td>9271</td>\n",
              "      <td>9998</td>\n",
              "      <td>77431</td>\n",
              "      <td>Patrick O'Brian</td>\n",
              "      <td>The Mauritius Command</td>\n",
              "      <td>https://images.gr-assets.com/books/1455373531l...</td>\n",
              "      <td>4.35</td>\n",
              "      <td>9421</td>\n",
              "      <td>fiction, history</td>\n",
              "      <td>During the Napoleonic wars, British naval capt...</td>\n",
              "    </tr>\n",
              "    <tr>\n",
              "      <th>9272</th>\n",
              "      <td>9272</td>\n",
              "      <td>9999</td>\n",
              "      <td>8565083</td>\n",
              "      <td>Peggy Orenstein</td>\n",
              "      <td>Cinderella Ate My Daughter: Dispatches from th...</td>\n",
              "      <td>https://images.gr-assets.com/books/1279214118l...</td>\n",
              "      <td>3.65</td>\n",
              "      <td>11279</td>\n",
              "      <td>nonfiction, psychology</td>\n",
              "      <td>The acclaimed author of the groundbreaking bes...</td>\n",
              "    </tr>\n",
              "    <tr>\n",
              "      <th>9273</th>\n",
              "      <td>9273</td>\n",
              "      <td>10000</td>\n",
              "      <td>8914</td>\n",
              "      <td>John Keegan</td>\n",
              "      <td>The First World War</td>\n",
              "      <td>https://images.gr-assets.com/books/1403194704l...</td>\n",
              "      <td>4.00</td>\n",
              "      <td>9162</td>\n",
              "      <td>history, nonfiction</td>\n",
              "      <td>A history of the Great War chronicles the even...</td>\n",
              "    </tr>\n",
              "  </tbody>\n",
              "</table>\n",
              "</div>"
            ],
            "text/plain": [
              "      Unnamed: 0  ...                                               desc\n",
              "9269        9269  ...  When her parents vanish, Cerise Mar becomes tr...\n",
              "9270        9270  ...  Traces Johnson's life from his Texas childhood...\n",
              "9271        9271  ...  During the Napoleonic wars, British naval capt...\n",
              "9272        9272  ...  The acclaimed author of the groundbreaking bes...\n",
              "9273        9273  ...  A history of the Great War chronicles the even...\n",
              "\n",
              "[5 rows x 10 columns]"
            ]
          },
          "metadata": {
            "tags": []
          },
          "execution_count": 35
        }
      ]
    },
    {
      "cell_type": "code",
      "metadata": {
        "id": "F1mMlZdeBdL_"
      },
      "source": [
        "def _removeNonAscii(s):\n",
        "    return \"\".join(i for i in s if  ord(i)<128)\n",
        "# Function for converting into lower case\n",
        "def make_lower_case(text):\n",
        "    return text.lower()\n",
        "# Function for removing stop words\n",
        "def remove_stop_words(text):\n",
        "    text = text.split()\n",
        "    stops = set(stopwords.words(\"english\"))\n",
        "    text = [w for w in text if not w in stops]\n",
        "    text = \" \".join(text)\n",
        "    return text\n",
        "# Function for removing punctuation\n",
        "def remove_punctuation(text):\n",
        "    tokenizer = RegexpTokenizer(r'\\w+')\n",
        "    text = tokenizer.tokenize(text)\n",
        "    text = \" \".join(text)\n",
        "    return text\n",
        "#Function for removing the html tags\n",
        "def remove_html(text):\n",
        "    html_pattern = re.compile('<.*?>')\n",
        "    return html_pattern.sub(r'', text)"
      ],
      "execution_count": null,
      "outputs": []
    },
    {
      "cell_type": "code",
      "metadata": {
        "id": "XRxPABO3BkM9"
      },
      "source": [
        "df['cleaned_desc'] = df['desc'].apply(_removeNonAscii)\n",
        "df['cleaned_desc'] = df.cleaned_desc.apply(func = make_lower_case)\n",
        "df['cleaned_desc'] = df.cleaned_desc.apply(func = remove_stop_words)\n",
        "df['cleaned_desc'] = df.cleaned_desc.apply(func=remove_punctuation)\n",
        "df['cleaned_desc'] = df.cleaned_desc.apply(func=remove_html)\n"
      ],
      "execution_count": null,
      "outputs": []
    },
    {
      "cell_type": "code",
      "metadata": {
        "id": "C0HqSYmFjD9T",
        "colab": {
          "base_uri": "https://localhost:8080/"
        },
        "outputId": "6a11416f-143f-4785-8d0d-8f9b63c21028"
      },
      "source": [
        "df.drop(columns='desc')"
      ],
      "execution_count": null,
      "outputs": [
        {
          "output_type": "execute_result",
          "data": {
            "text/html": [
              "<div>\n",
              "<style scoped>\n",
              "    .dataframe tbody tr th:only-of-type {\n",
              "        vertical-align: middle;\n",
              "    }\n",
              "\n",
              "    .dataframe tbody tr th {\n",
              "        vertical-align: top;\n",
              "    }\n",
              "\n",
              "    .dataframe thead th {\n",
              "        text-align: right;\n",
              "    }\n",
              "</style>\n",
              "<table border=\"1\" class=\"dataframe\">\n",
              "  <thead>\n",
              "    <tr style=\"text-align: right;\">\n",
              "      <th></th>\n",
              "      <th>Unnamed: 0</th>\n",
              "      <th>r_index</th>\n",
              "      <th>book_id</th>\n",
              "      <th>authors</th>\n",
              "      <th>original_title</th>\n",
              "      <th>image_url</th>\n",
              "      <th>average_rating</th>\n",
              "      <th>ratings_count</th>\n",
              "      <th>genre</th>\n",
              "      <th>cleaned_desc</th>\n",
              "    </tr>\n",
              "  </thead>\n",
              "  <tbody>\n",
              "    <tr>\n",
              "      <th>0</th>\n",
              "      <td>0</td>\n",
              "      <td>1</td>\n",
              "      <td>2767052</td>\n",
              "      <td>Suzanne Collins</td>\n",
              "      <td>The Hunger Games</td>\n",
              "      <td>https://images.gr-assets.com/books/1447303603l...</td>\n",
              "      <td>4.34</td>\n",
              "      <td>4780653</td>\n",
              "      <td>fiction, fantasy</td>\n",
              "      <td>future north america rulers panem maintain con...</td>\n",
              "    </tr>\n",
              "    <tr>\n",
              "      <th>1</th>\n",
              "      <td>1</td>\n",
              "      <td>2</td>\n",
              "      <td>3</td>\n",
              "      <td>J.K. Rowling, Mary GrandPré</td>\n",
              "      <td>Harry Potter and the Philosopher's Stone</td>\n",
              "      <td>https://images.gr-assets.com/books/1474154022l...</td>\n",
              "      <td>4.44</td>\n",
              "      <td>4602479</td>\n",
              "      <td>fantasy, fiction</td>\n",
              "      <td>rescued outrageous neglect aunt uncle young bo...</td>\n",
              "    </tr>\n",
              "    <tr>\n",
              "      <th>2</th>\n",
              "      <td>2</td>\n",
              "      <td>3</td>\n",
              "      <td>41865</td>\n",
              "      <td>Stephenie Meyer</td>\n",
              "      <td>Twilight</td>\n",
              "      <td>https://images.gr-assets.com/books/1361039443l...</td>\n",
              "      <td>3.57</td>\n",
              "      <td>3866839</td>\n",
              "      <td>fantasy, fiction</td>\n",
              "      <td>160 million copies twilight saga sold worldwid...</td>\n",
              "    </tr>\n",
              "    <tr>\n",
              "      <th>3</th>\n",
              "      <td>3</td>\n",
              "      <td>4</td>\n",
              "      <td>2657</td>\n",
              "      <td>Harper Lee</td>\n",
              "      <td>To Kill a Mockingbird</td>\n",
              "      <td>https://images.gr-assets.com/books/1361975680l...</td>\n",
              "      <td>4.25</td>\n",
              "      <td>3198671</td>\n",
              "      <td>classics, fiction</td>\n",
              "      <td>unforgettable novel childhood sleepy southern ...</td>\n",
              "    </tr>\n",
              "    <tr>\n",
              "      <th>4</th>\n",
              "      <td>4</td>\n",
              "      <td>5</td>\n",
              "      <td>4671</td>\n",
              "      <td>F. Scott Fitzgerald</td>\n",
              "      <td>The Great Gatsby</td>\n",
              "      <td>https://images.gr-assets.com/books/1490528560l...</td>\n",
              "      <td>3.89</td>\n",
              "      <td>2683664</td>\n",
              "      <td>classics, fiction</td>\n",
              "      <td>young man newly rich tries recapture past win ...</td>\n",
              "    </tr>\n",
              "    <tr>\n",
              "      <th>...</th>\n",
              "      <td>...</td>\n",
              "      <td>...</td>\n",
              "      <td>...</td>\n",
              "      <td>...</td>\n",
              "      <td>...</td>\n",
              "      <td>...</td>\n",
              "      <td>...</td>\n",
              "      <td>...</td>\n",
              "      <td>...</td>\n",
              "      <td>...</td>\n",
              "    </tr>\n",
              "    <tr>\n",
              "      <th>9269</th>\n",
              "      <td>9269</td>\n",
              "      <td>9996</td>\n",
              "      <td>7130616</td>\n",
              "      <td>Ilona Andrews</td>\n",
              "      <td>Bayou Moon</td>\n",
              "      <td>https://images.gr-assets.com/books/1307445460l...</td>\n",
              "      <td>4.09</td>\n",
              "      <td>17204</td>\n",
              "      <td>fantasy, romance</td>\n",
              "      <td>parents vanish cerise mar becomes trapped war ...</td>\n",
              "    </tr>\n",
              "    <tr>\n",
              "      <th>9270</th>\n",
              "      <td>9270</td>\n",
              "      <td>9997</td>\n",
              "      <td>208324</td>\n",
              "      <td>Robert A. Caro</td>\n",
              "      <td>Means of Ascent</td>\n",
              "      <td>https://i.gr-assets.com/images/S/compressed.ph...</td>\n",
              "      <td>4.25</td>\n",
              "      <td>12582</td>\n",
              "      <td>biography, history</td>\n",
              "      <td>traces johnson s life texas childhood rise pol...</td>\n",
              "    </tr>\n",
              "    <tr>\n",
              "      <th>9271</th>\n",
              "      <td>9271</td>\n",
              "      <td>9998</td>\n",
              "      <td>77431</td>\n",
              "      <td>Patrick O'Brian</td>\n",
              "      <td>The Mauritius Command</td>\n",
              "      <td>https://images.gr-assets.com/books/1455373531l...</td>\n",
              "      <td>4.35</td>\n",
              "      <td>9421</td>\n",
              "      <td>fiction, history</td>\n",
              "      <td>napoleonic wars british naval captain jack aub...</td>\n",
              "    </tr>\n",
              "    <tr>\n",
              "      <th>9272</th>\n",
              "      <td>9272</td>\n",
              "      <td>9999</td>\n",
              "      <td>8565083</td>\n",
              "      <td>Peggy Orenstein</td>\n",
              "      <td>Cinderella Ate My Daughter: Dispatches from th...</td>\n",
              "      <td>https://images.gr-assets.com/books/1279214118l...</td>\n",
              "      <td>3.65</td>\n",
              "      <td>11279</td>\n",
              "      <td>nonfiction, psychology</td>\n",
              "      <td>acclaimed author groundbreaking bestseller sch...</td>\n",
              "    </tr>\n",
              "    <tr>\n",
              "      <th>9273</th>\n",
              "      <td>9273</td>\n",
              "      <td>10000</td>\n",
              "      <td>8914</td>\n",
              "      <td>John Keegan</td>\n",
              "      <td>The First World War</td>\n",
              "      <td>https://images.gr-assets.com/books/1403194704l...</td>\n",
              "      <td>4.00</td>\n",
              "      <td>9162</td>\n",
              "      <td>history, nonfiction</td>\n",
              "      <td>history great war chronicles events conflict e...</td>\n",
              "    </tr>\n",
              "  </tbody>\n",
              "</table>\n",
              "<p>9274 rows × 10 columns</p>\n",
              "</div>"
            ],
            "text/plain": [
              "      Unnamed: 0  ...                                       cleaned_desc\n",
              "0              0  ...  future north america rulers panem maintain con...\n",
              "1              1  ...  rescued outrageous neglect aunt uncle young bo...\n",
              "2              2  ...  160 million copies twilight saga sold worldwid...\n",
              "3              3  ...  unforgettable novel childhood sleepy southern ...\n",
              "4              4  ...  young man newly rich tries recapture past win ...\n",
              "...          ...  ...                                                ...\n",
              "9269        9269  ...  parents vanish cerise mar becomes trapped war ...\n",
              "9270        9270  ...  traces johnson s life texas childhood rise pol...\n",
              "9271        9271  ...  napoleonic wars british naval captain jack aub...\n",
              "9272        9272  ...  acclaimed author groundbreaking bestseller sch...\n",
              "9273        9273  ...  history great war chronicles events conflict e...\n",
              "\n",
              "[9274 rows x 10 columns]"
            ]
          },
          "metadata": {
            "tags": []
          },
          "execution_count": 38
        }
      ]
    },
    {
      "cell_type": "code",
      "metadata": {
        "id": "kY7dHsdzdh7R"
      },
      "source": [
        "df.to_csv('books.csv')"
      ],
      "execution_count": null,
      "outputs": []
    },
    {
      "cell_type": "code",
      "metadata": {
        "colab": {
          "base_uri": "https://localhost:8080/"
        },
        "id": "w9N7OnLlB6iH",
        "outputId": "4fe64b0f-2f74-48ec-89b0-da81f8cf4aae"
      },
      "source": [
        "df['cleaned_desc'].head()"
      ],
      "execution_count": null,
      "outputs": [
        {
          "output_type": "execute_result",
          "data": {
            "text/plain": [
              "0    future north america rulers panem maintain con...\n",
              "1    rescued outrageous neglect aunt uncle young bo...\n",
              "2    160 million copies twilight saga sold worldwid...\n",
              "3    unforgettable novel childhood sleepy southern ...\n",
              "4    young man newly rich tries recapture past win ...\n",
              "Name: cleaned_desc, dtype: object"
            ]
          },
          "metadata": {
            "tags": []
          },
          "execution_count": 40
        }
      ]
    },
    {
      "cell_type": "code",
      "metadata": {
        "id": "8gcxpU09d17z"
      },
      "source": [
        "np.savez(\"cleaned_desc.npz\", df['cleaned_desc'])"
      ],
      "execution_count": null,
      "outputs": []
    },
    {
      "cell_type": "code",
      "metadata": {
        "id": "jwW4wWqNNFc-"
      },
      "source": [
        "def create_soup(x):\n",
        "    return   x['cleaned_desc'] + ' '+x['original_title'] + ' ' + x['average_rating']"
      ],
      "execution_count": null,
      "outputs": []
    },
    {
      "cell_type": "code",
      "metadata": {
        "colab": {
          "base_uri": "https://localhost:8080/"
        },
        "id": "32cHxxc6CIHm",
        "outputId": "fc034698-da0e-4c86-dcf6-d4fa2bb8876a"
      },
      "source": [
        "features = ['authors','original_title','cleaned_desc','average_rating']\n",
        "df_filledbooks = df[features]\n",
        "df_filledbooks.info()"
      ],
      "execution_count": null,
      "outputs": [
        {
          "output_type": "stream",
          "text": [
            "<class 'pandas.core.frame.DataFrame'>\n",
            "RangeIndex: 9274 entries, 0 to 9273\n",
            "Data columns (total 4 columns):\n",
            " #   Column          Non-Null Count  Dtype  \n",
            "---  ------          --------------  -----  \n",
            " 0   authors         9274 non-null   object \n",
            " 1   original_title  9274 non-null   object \n",
            " 2   cleaned_desc    9274 non-null   object \n",
            " 3   average_rating  9274 non-null   float64\n",
            "dtypes: float64(1), object(3)\n",
            "memory usage: 289.9+ KB\n"
          ],
          "name": "stdout"
        }
      ]
    },
    {
      "cell_type": "code",
      "metadata": {
        "colab": {
          "base_uri": "https://localhost:8080/"
        },
        "id": "IAH6ic-MCjCW",
        "outputId": "dbaea1b8-bec3-4aad-a9e5-c825448b0b3b"
      },
      "source": [
        "df_filledbooks = df_filledbooks.astype(str)\n",
        "df_filledbooks.dtypes"
      ],
      "execution_count": null,
      "outputs": [
        {
          "output_type": "execute_result",
          "data": {
            "text/plain": [
              "authors           object\n",
              "original_title    object\n",
              "cleaned_desc      object\n",
              "average_rating    object\n",
              "dtype: object"
            ]
          },
          "metadata": {
            "tags": []
          },
          "execution_count": 44
        }
      ]
    },
    {
      "cell_type": "code",
      "metadata": {
        "id": "gxpNaOIiCmVG"
      },
      "source": [
        "df_filledbooks['soup'] = df_filledbooks.apply(create_soup, axis = 1)"
      ],
      "execution_count": null,
      "outputs": []
    },
    {
      "cell_type": "code",
      "metadata": {
        "colab": {
          "base_uri": "https://localhost:8080/"
        },
        "id": "nAqTXwk-CwMm",
        "outputId": "25505729-6e71-4190-daa1-d06cf683ed30"
      },
      "source": [
        "df_filledbooks['soup']"
      ],
      "execution_count": null,
      "outputs": [
        {
          "output_type": "execute_result",
          "data": {
            "text/plain": [
              "0       future north america rulers panem maintain con...\n",
              "1       rescued outrageous neglect aunt uncle young bo...\n",
              "2       160 million copies twilight saga sold worldwid...\n",
              "3       unforgettable novel childhood sleepy southern ...\n",
              "4       young man newly rich tries recapture past win ...\n",
              "                              ...                        \n",
              "9269    parents vanish cerise mar becomes trapped war ...\n",
              "9270    traces johnson s life texas childhood rise pol...\n",
              "9271    napoleonic wars british naval captain jack aub...\n",
              "9272    acclaimed author groundbreaking bestseller sch...\n",
              "9273    history great war chronicles events conflict e...\n",
              "Name: soup, Length: 9274, dtype: object"
            ]
          },
          "metadata": {
            "tags": []
          },
          "execution_count": 46
        }
      ]
    },
    {
      "cell_type": "code",
      "metadata": {
        "id": "T0PV0tKZpgww"
      },
      "source": [
        "\n",
        "tfidf = TfidfVectorizer(stop_words = 'english',ngram_range=(1,2))\n",
        "# m by n matrix\n",
        "tf_matrix = tfidf.fit_transform(df_filledbooks['soup'])\n",
        "\n",
        "cosine_sim2 = cosine_similarity(tf_matrix, tf_matrix)"
      ],
      "execution_count": null,
      "outputs": []
    },
    {
      "cell_type": "code",
      "metadata": {
        "id": "ifQqEVM7i6wU"
      },
      "source": [
        ""
      ],
      "execution_count": null,
      "outputs": []
    },
    {
      "cell_type": "code",
      "metadata": {
        "id": "j0H11xRBpl5G"
      },
      "source": [
        "df_filledbooks = df_filledbooks.reset_index()\n",
        "indices = pd.Series(data = df_filledbooks.index, index = df_filledbooks['original_title'])"
      ],
      "execution_count": null,
      "outputs": []
    },
    {
      "cell_type": "code",
      "metadata": {
        "id": "MsZaG2aupd13"
      },
      "source": [
        "def get_recommendations_new(title, cosine_sim = cosine_sim2):\n",
        "   \n",
        "#   Get indice of given book\n",
        "    idx = indices[title]\n",
        "    \n",
        "    # Get this books sim with all other books, enum to keep track of book index\n",
        "    sim_scores = list(enumerate(cosine_sim[idx]))\n",
        "    \n",
        "    sim_scores = sorted(sim_scores, key = lambda x: x[1], reverse = True)\n",
        "    # Except the book itself\n",
        "    sim_scores = sim_scores[1:11]\n",
        "    \n",
        "    movie_indices  = [i[0] for i in sim_scores]\n",
        "    \n",
        "    return list(df['original_title'].iloc[movie_indices])"
      ],
      "execution_count": null,
      "outputs": []
    },
    {
      "cell_type": "code",
      "metadata": {
        "id": "Bzht433iovNp"
      },
      "source": [
        ""
      ],
      "execution_count": null,
      "outputs": []
    },
    {
      "cell_type": "code",
      "metadata": {
        "colab": {
          "base_uri": "https://localhost:8080/"
        },
        "id": "Kah5lgTPDQUa",
        "outputId": "0bf03f4e-8a1a-4420-97d2-c5a7724640a6"
      },
      "source": [
        " get_recommendations_new(\"The Hunger Games\")"
      ],
      "execution_count": null,
      "outputs": [
        {
          "output_type": "execute_result",
          "data": {
            "text/plain": [
              "['The Hunger Games Box Set',\n",
              " 'Mockingjay',\n",
              " 'Catching Fire',\n",
              " 'Legend',\n",
              " 'Forbidden',\n",
              " 'Hunger ',\n",
              " 'Partials',\n",
              " 'The Knight at Dawn (Magic Tree House, #2)',\n",
              " 'How to Talk to a Widower',\n",
              " 'The Long Walk']"
            ]
          },
          "metadata": {
            "tags": []
          },
          "execution_count": 50
        }
      ]
    },
    {
      "cell_type": "code",
      "metadata": {
        "colab": {
          "base_uri": "https://localhost:8080/"
        },
        "id": "E18p6_y-DVnL",
        "outputId": "2a15d867-690b-467b-80de-efde92f603c0"
      },
      "source": [
        "get_recommendations_new(\"Twilight\")"
      ],
      "execution_count": null,
      "outputs": [
        {
          "output_type": "execute_result",
          "data": {
            "text/plain": [
              "['Twilight: The Graphic Novel,',\n",
              " 'The Twilight Collection (Twilight, #1-3)',\n",
              " 'Midnight Sun (Partial Draft)',\n",
              " 'Twilight and History',\n",
              " 'The Twilight Saga: The Official Guide',\n",
              " 'The Twilight Saga',\n",
              " 'Eclipse',\n",
              " 'New Moon (Twilight, #2)',\n",
              " 'Holding Up the Universe',\n",
              " 'Twilight: The Graphic Novel']"
            ]
          },
          "metadata": {
            "tags": []
          },
          "execution_count": 51
        }
      ]
    },
    {
      "cell_type": "code",
      "metadata": {
        "id": "LX_u0I4SRtso",
        "colab": {
          "base_uri": "https://localhost:8080/"
        },
        "outputId": "5078221a-ae76-4faf-c95c-3caa6cf7d6ab"
      },
      "source": [
        "get_recommendations_new(\"بين القصرين\")"
      ],
      "execution_count": null,
      "outputs": [
        {
          "output_type": "execute_result",
          "data": {
            "text/plain": [
              "['أولاد حارتنا',\n",
              " 'Olive Kitteridge',\n",
              " '沈黙',\n",
              " 'Two for the Dough',\n",
              " 'Junky',\n",
              " 'The Map That Changed the World: William Smith and the Birth of Modern Geology',\n",
              " 'Dreamcatcher',\n",
              " \"The Children's Book\",\n",
              " 'Le cosmicomiche',\n",
              " 'Size 14 Is Not Fat Either']"
            ]
          },
          "metadata": {
            "tags": []
          },
          "execution_count": 52
        }
      ]
    },
    {
      "cell_type": "code",
      "metadata": {
        "colab": {
          "base_uri": "https://localhost:8080/"
        },
        "id": "YeiBOQBYmONr",
        "outputId": "167f3a85-f11b-422b-a6cb-e5523022e8ea"
      },
      "source": [
        "get_recommendations_new(\"東京喰種トーキョーグール 1\")"
      ],
      "execution_count": null,
      "outputs": [
        {
          "output_type": "execute_result",
          "data": {
            "text/plain": [
              "['Lothaire',\n",
              " 'النبطي',\n",
              " 'رباعيات صلاح جاهين',\n",
              " 'Dreamfever',\n",
              " 'Zoo',\n",
              " 'Dead Beat',\n",
              " 'Magic Slays',\n",
              " 'Motorcycle Man',\n",
              " 'The Undead Pool',\n",
              " 'This Man Confessed']"
            ]
          },
          "metadata": {
            "tags": []
          },
          "execution_count": 53
        }
      ]
    },
    {
      "cell_type": "code",
      "metadata": {
        "id": "7Jz1fUvsoiBr"
      },
      "source": [
        "np.savez_compressed('cosine_rating_sim.npz', array1=cosine_sim2)"
      ],
      "execution_count": null,
      "outputs": []
    }
  ]
}