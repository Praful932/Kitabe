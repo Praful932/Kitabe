{
  "nbformat": 4,
  "nbformat_minor": 0,
  "metadata": {
    "colab": {
      "name": "Book-desc.ipynb",
      "provenance": [],
      "collapsed_sections": []
    },
    "kernelspec": {
      "name": "python3",
      "display_name": "Python 3"
    },
    "language_info": {
      "name": "python"
    }
  },
  "cells": [
    {
      "cell_type": "code",
      "metadata": {
        "id": "KSi03Q5G-6lA"
      },
      "source": [
        "import pandas as pd\n",
        "import numpy as np\n",
        "import pandas as pd\n",
        "import numpy as np\n",
        "from nltk.corpus import stopwords\n",
        "from sklearn.metrics.pairwise import linear_kernel\n",
        "from sklearn.feature_extraction.text import CountVectorizer\n",
        "from sklearn.feature_extraction.text import TfidfVectorizer\n",
        "from nltk.tokenize import RegexpTokenizer\n",
        "import re\n",
        "import string\n",
        "import random\n",
        "from PIL import Image\n",
        "import requests\n",
        "from io import BytesIO\n",
        "import matplotlib.pyplot as plt\n",
        "%matplotlib inline\n",
        "from sklearn.metrics.pairwise import cosine_similarity\n",
        "import nltk\n"
      ],
      "execution_count": 9,
      "outputs": []
    },
    {
      "cell_type": "code",
      "metadata": {
        "id": "dy4v5r_tBzoe"
      },
      "source": [
        ""
      ],
      "execution_count": null,
      "outputs": []
    },
    {
      "cell_type": "code",
      "metadata": {
        "colab": {
          "base_uri": "https://localhost:8080/"
        },
        "id": "M8UdZACmBxBn",
        "outputId": "b2584dbb-7adb-4408-d4c1-78bc1f3465c2"
      },
      "source": [
        "nltk.download('stopwords')"
      ],
      "execution_count": 10,
      "outputs": [
        {
          "output_type": "stream",
          "text": [
            "[nltk_data] Downloading package stopwords to /root/nltk_data...\n",
            "[nltk_data]   Unzipping corpora/stopwords.zip.\n"
          ],
          "name": "stdout"
        },
        {
          "output_type": "execute_result",
          "data": {
            "text/plain": [
              "True"
            ]
          },
          "metadata": {
            "tags": []
          },
          "execution_count": 10
        }
      ]
    },
    {
      "cell_type": "code",
      "metadata": {
        "id": "IQw2Dosy_LTN"
      },
      "source": [
        "desc = pd.read_csv('/content/drive/MyDrive/desc.csv')"
      ],
      "execution_count": 2,
      "outputs": []
    },
    {
      "cell_type": "code",
      "metadata": {
        "id": "udVgyn7pAWsm"
      },
      "source": [
        "df=pd.read_csv('/content/drive/MyDrive/Books/books.csv')"
      ],
      "execution_count": 3,
      "outputs": []
    },
    {
      "cell_type": "code",
      "metadata": {
        "id": "NyhYSFG4BN7k"
      },
      "source": [
        "df['desc']=desc['desc']"
      ],
      "execution_count": 4,
      "outputs": []
    },
    {
      "cell_type": "code",
      "metadata": {
        "colab": {
          "base_uri": "https://localhost:8080/",
          "height": 548
        },
        "id": "EmaRag_XBWnD",
        "outputId": "051882b7-24c6-4d92-b91c-1a8b23aec7bd"
      },
      "source": [
        "df.head()"
      ],
      "execution_count": 5,
      "outputs": [
        {
          "output_type": "execute_result",
          "data": {
            "text/html": [
              "<div>\n",
              "<style scoped>\n",
              "    .dataframe tbody tr th:only-of-type {\n",
              "        vertical-align: middle;\n",
              "    }\n",
              "\n",
              "    .dataframe tbody tr th {\n",
              "        vertical-align: top;\n",
              "    }\n",
              "\n",
              "    .dataframe thead th {\n",
              "        text-align: right;\n",
              "    }\n",
              "</style>\n",
              "<table border=\"1\" class=\"dataframe\">\n",
              "  <thead>\n",
              "    <tr style=\"text-align: right;\">\n",
              "      <th></th>\n",
              "      <th>Unnamed: 0</th>\n",
              "      <th>r_index</th>\n",
              "      <th>book_id</th>\n",
              "      <th>authors</th>\n",
              "      <th>original_title</th>\n",
              "      <th>image_url</th>\n",
              "      <th>average_rating</th>\n",
              "      <th>ratings_count</th>\n",
              "      <th>genre</th>\n",
              "      <th>desc</th>\n",
              "    </tr>\n",
              "  </thead>\n",
              "  <tbody>\n",
              "    <tr>\n",
              "      <th>0</th>\n",
              "      <td>0</td>\n",
              "      <td>1</td>\n",
              "      <td>2767052</td>\n",
              "      <td>Suzanne Collins</td>\n",
              "      <td>The Hunger Games</td>\n",
              "      <td>https://images.gr-assets.com/books/1447303603l...</td>\n",
              "      <td>4.34</td>\n",
              "      <td>4780653</td>\n",
              "      <td>fiction, fantasy</td>\n",
              "      <td>In a future North America, where the rulers of...</td>\n",
              "    </tr>\n",
              "    <tr>\n",
              "      <th>1</th>\n",
              "      <td>1</td>\n",
              "      <td>2</td>\n",
              "      <td>3</td>\n",
              "      <td>J.K. Rowling, Mary GrandPré</td>\n",
              "      <td>Harry Potter and the Philosopher's Stone</td>\n",
              "      <td>https://images.gr-assets.com/books/1474154022l...</td>\n",
              "      <td>4.44</td>\n",
              "      <td>4602479</td>\n",
              "      <td>fantasy, fiction</td>\n",
              "      <td>Rescued from the outrageous neglect of his aun...</td>\n",
              "    </tr>\n",
              "    <tr>\n",
              "      <th>2</th>\n",
              "      <td>2</td>\n",
              "      <td>3</td>\n",
              "      <td>41865</td>\n",
              "      <td>Stephenie Meyer</td>\n",
              "      <td>Twilight</td>\n",
              "      <td>https://images.gr-assets.com/books/1361039443l...</td>\n",
              "      <td>3.57</td>\n",
              "      <td>3866839</td>\n",
              "      <td>fantasy, fiction</td>\n",
              "      <td>With 160 million copies of the Twilight Saga s...</td>\n",
              "    </tr>\n",
              "    <tr>\n",
              "      <th>3</th>\n",
              "      <td>3</td>\n",
              "      <td>4</td>\n",
              "      <td>2657</td>\n",
              "      <td>Harper Lee</td>\n",
              "      <td>To Kill a Mockingbird</td>\n",
              "      <td>https://images.gr-assets.com/books/1361975680l...</td>\n",
              "      <td>4.25</td>\n",
              "      <td>3198671</td>\n",
              "      <td>classics, fiction</td>\n",
              "      <td>The unforgettable novel of a childhood in a sl...</td>\n",
              "    </tr>\n",
              "    <tr>\n",
              "      <th>4</th>\n",
              "      <td>4</td>\n",
              "      <td>5</td>\n",
              "      <td>4671</td>\n",
              "      <td>F. Scott Fitzgerald</td>\n",
              "      <td>The Great Gatsby</td>\n",
              "      <td>https://images.gr-assets.com/books/1490528560l...</td>\n",
              "      <td>3.89</td>\n",
              "      <td>2683664</td>\n",
              "      <td>classics, fiction</td>\n",
              "      <td>A young man newly rich tries to recapture the ...</td>\n",
              "    </tr>\n",
              "  </tbody>\n",
              "</table>\n",
              "</div>"
            ],
            "text/plain": [
              "   Unnamed: 0  ...                                               desc\n",
              "0           0  ...  In a future North America, where the rulers of...\n",
              "1           1  ...  Rescued from the outrageous neglect of his aun...\n",
              "2           2  ...  With 160 million copies of the Twilight Saga s...\n",
              "3           3  ...  The unforgettable novel of a childhood in a sl...\n",
              "4           4  ...  A young man newly rich tries to recapture the ...\n",
              "\n",
              "[5 rows x 10 columns]"
            ]
          },
          "metadata": {
            "tags": []
          },
          "execution_count": 5
        }
      ]
    },
    {
      "cell_type": "code",
      "metadata": {
        "id": "F1mMlZdeBdL_"
      },
      "source": [
        "def _removeNonAscii(s):\n",
        "    return \"\".join(i for i in s if  ord(i)<128)\n",
        "# Function for converting into lower case\n",
        "def make_lower_case(text):\n",
        "    return text.lower()\n",
        "# Function for removing stop words\n",
        "def remove_stop_words(text):\n",
        "    text = text.split()\n",
        "    stops = set(stopwords.words(\"english\"))\n",
        "    text = [w for w in text if not w in stops]\n",
        "    text = \" \".join(text)\n",
        "    return text\n",
        "# Function for removing punctuation\n",
        "def remove_punctuation(text):\n",
        "    tokenizer = RegexpTokenizer(r'\\w+')\n",
        "    text = tokenizer.tokenize(text)\n",
        "    text = \" \".join(text)\n",
        "    return text\n",
        "#Function for removing the html tags\n",
        "def remove_html(text):\n",
        "    html_pattern = re.compile('<.*?>')\n",
        "    return html_pattern.sub(r'', text)"
      ],
      "execution_count": 6,
      "outputs": []
    },
    {
      "cell_type": "code",
      "metadata": {
        "id": "XRxPABO3BkM9"
      },
      "source": [
        "df['cleaned_desc'] = df['desc'].apply(_removeNonAscii)\n",
        "df['cleaned_desc'] = df.cleaned_desc.apply(func = make_lower_case)\n",
        "df['cleaned_desc'] = df.cleaned_desc.apply(func = remove_stop_words)\n",
        "df['cleaned_desc'] = df.cleaned_desc.apply(func=remove_punctuation)\n",
        "df['cleaned_desc'] = df.cleaned_desc.apply(func=remove_html)\n"
      ],
      "execution_count": 11,
      "outputs": []
    },
    {
      "cell_type": "code",
      "metadata": {
        "colab": {
          "base_uri": "https://localhost:8080/"
        },
        "id": "w9N7OnLlB6iH",
        "outputId": "b1db050f-6588-4984-dc45-7b0aa48e99d2"
      },
      "source": [
        "df['cleaned_desc'].head()"
      ],
      "execution_count": 12,
      "outputs": [
        {
          "output_type": "execute_result",
          "data": {
            "text/plain": [
              "0    future north america rulers panem maintain con...\n",
              "1    rescued outrageous neglect aunt uncle young bo...\n",
              "2    160 million copies twilight saga sold worldwid...\n",
              "3    unforgettable novel childhood sleepy southern ...\n",
              "4    young man newly rich tries recapture past win ...\n",
              "Name: cleaned_desc, dtype: object"
            ]
          },
          "metadata": {
            "tags": []
          },
          "execution_count": 12
        }
      ]
    },
    {
      "cell_type": "code",
      "metadata": {
        "id": "gXJZPj7xCA2-"
      },
      "source": [
        "def create_soup(x):\n",
        "    return x['original_title'] + ' ' + x['cleaned_desc'] + ' ' + x['average_rating']"
      ],
      "execution_count": 18,
      "outputs": []
    },
    {
      "cell_type": "code",
      "metadata": {
        "colab": {
          "base_uri": "https://localhost:8080/"
        },
        "id": "32cHxxc6CIHm",
        "outputId": "38b97a29-66a8-4c6e-f782-32e4e2ee10dc"
      },
      "source": [
        "features = ['authors','original_title','cleaned_desc','average_rating']\n",
        "df_filledbooks = df[features]\n",
        "df_filledbooks.info()"
      ],
      "execution_count": 15,
      "outputs": [
        {
          "output_type": "stream",
          "text": [
            "<class 'pandas.core.frame.DataFrame'>\n",
            "RangeIndex: 9274 entries, 0 to 9273\n",
            "Data columns (total 4 columns):\n",
            " #   Column          Non-Null Count  Dtype  \n",
            "---  ------          --------------  -----  \n",
            " 0   authors         9274 non-null   object \n",
            " 1   original_title  9274 non-null   object \n",
            " 2   cleaned_desc    9274 non-null   object \n",
            " 3   average_rating  9274 non-null   float64\n",
            "dtypes: float64(1), object(3)\n",
            "memory usage: 289.9+ KB\n"
          ],
          "name": "stdout"
        }
      ]
    },
    {
      "cell_type": "code",
      "metadata": {
        "colab": {
          "base_uri": "https://localhost:8080/"
        },
        "id": "IAH6ic-MCjCW",
        "outputId": "94cd2626-4b86-4a07-d765-67ae4eacbe67"
      },
      "source": [
        "df_filledbooks = df_filledbooks.astype(str)\n",
        "df_filledbooks.dtypes"
      ],
      "execution_count": 16,
      "outputs": [
        {
          "output_type": "execute_result",
          "data": {
            "text/plain": [
              "authors           object\n",
              "original_title    object\n",
              "cleaned_desc      object\n",
              "average_rating    object\n",
              "dtype: object"
            ]
          },
          "metadata": {
            "tags": []
          },
          "execution_count": 16
        }
      ]
    },
    {
      "cell_type": "code",
      "metadata": {
        "id": "gxpNaOIiCmVG"
      },
      "source": [
        "df_filledbooks['soup'] = df_filledbooks.apply(create_soup, axis = 1)"
      ],
      "execution_count": 19,
      "outputs": []
    },
    {
      "cell_type": "code",
      "metadata": {
        "colab": {
          "base_uri": "https://localhost:8080/"
        },
        "id": "nAqTXwk-CwMm",
        "outputId": "8adca96c-afc7-4f63-f846-0fa3475e3381"
      },
      "source": [
        "df_filledbooks['soup']"
      ],
      "execution_count": 22,
      "outputs": [
        {
          "output_type": "execute_result",
          "data": {
            "text/plain": [
              "0       The Hunger Games future north america rulers p...\n",
              "1       Harry Potter and the Philosopher's Stone rescu...\n",
              "2       Twilight 160 million copies twilight saga sold...\n",
              "3       To Kill a Mockingbird unforgettable novel chil...\n",
              "4       The Great Gatsby young man newly rich tries re...\n",
              "                              ...                        \n",
              "9269    Bayou Moon parents vanish cerise mar becomes t...\n",
              "9270    Means of Ascent  traces johnson s life texas c...\n",
              "9271    The Mauritius Command napoleonic wars british ...\n",
              "9272    Cinderella Ate My Daughter: Dispatches from th...\n",
              "9273    The First World War history great war chronicl...\n",
              "Name: soup, Length: 9274, dtype: object"
            ]
          },
          "metadata": {
            "tags": []
          },
          "execution_count": 22
        }
      ]
    },
    {
      "cell_type": "code",
      "metadata": {
        "id": "zC8ioH5JC-vQ"
      },
      "source": [
        "def recommend_new_books(title,df_filledbooks=df_filledbooks):\n",
        "    \n",
        "    df_filledbooks = df_filledbooks.reset_index()\n",
        "    indices = pd.Series(data = df_filledbooks.index, index = df_filledbooks['original_title'])\n",
        "    tfidf = TfidfVectorizer(stop_words = 'english')\n",
        "    # m by n matrix\n",
        "    tf_matrix = tfidf.fit_transform(df_filledbooks['soup'])\n",
        "\n",
        "    cosine_sim2 = cosine_similarity(tf_matrix, tf_matrix)\n",
        "    \n",
        "    \n",
        "    \n",
        "    \n",
        "    #title = title.replace(' ','').lower()\n",
        "#   Get indice of given book\n",
        "    idx = indices[title]\n",
        "    \n",
        "    # Get this books sim with all other books, enum to keep track of book index\n",
        "    sim_scores = list(enumerate(cosine_sim2[idx]))\n",
        "    \n",
        "    sim_scores = sorted(sim_scores, key = lambda x: x[1], reverse = True)\n",
        "    # Except the book itself\n",
        "    sim_scores = sim_scores[1:11]\n",
        "    \n",
        "    movie_indices  = [i[0] for i in sim_scores]\n",
        "    \n",
        "    return list(df['original_title'].iloc[movie_indices])"
      ],
      "execution_count": 25,
      "outputs": []
    },
    {
      "cell_type": "code",
      "metadata": {
        "colab": {
          "base_uri": "https://localhost:8080/"
        },
        "id": "ml7W92ZPDFx_",
        "outputId": "29d8b45e-5f2c-4378-9ad3-0161c9b2e97d"
      },
      "source": [
        "recommend_new_books(\"Twilight\")"
      ],
      "execution_count": 26,
      "outputs": [
        {
          "output_type": "execute_result",
          "data": {
            "text/plain": [
              "['Twilight: The Graphic Novel,',\n",
              " 'The Twilight Collection (Twilight, #1-3)',\n",
              " 'Midnight Sun (Partial Draft)',\n",
              " 'Twilight and History',\n",
              " 'Eclipse',\n",
              " 'New Moon (Twilight, #2)',\n",
              " 'The Twilight Saga: The Official Guide',\n",
              " 'The Twilight Saga',\n",
              " 'Breaking Dawn',\n",
              " 'Twilight: The Graphic Novel']"
            ]
          },
          "metadata": {
            "tags": []
          },
          "execution_count": 26
        }
      ]
    },
    {
      "cell_type": "code",
      "metadata": {
        "colab": {
          "base_uri": "https://localhost:8080/"
        },
        "id": "MGyN3q1hDQ1X",
        "outputId": "b126a7cc-3367-4c21-843c-f7ea393a259d"
      },
      "source": [
        "recommend_new_books(\"Harry Potter and the Philosopher's Stone\")"
      ],
      "execution_count": 27,
      "outputs": [
        {
          "output_type": "execute_result",
          "data": {
            "text/plain": [
              "['Harry Potter Collection (Harry Potter, #1-6)',\n",
              " 'Complete Harry Potter Boxed Set',\n",
              " 'Harry Potter and the Order of the Phoenix',\n",
              " 'Harry Potter Boxed Set Books 1-4',\n",
              " 'Harry Potter: Film Wizardry',\n",
              " 'Harry, A History: The True Story of a Boy Wizard, His Fans, and Life Inside the Harry Potter Phenomenon',\n",
              " 'Harry Potter and the Half-Blood Prince',\n",
              " 'Harry Potter and Philosophy: If Aristotle Ran Hogwarts',\n",
              " 'Hogwarts: An Incomplete and Unreliable Guide',\n",
              " 'Harry Potter and the Chamber of Secrets']"
            ]
          },
          "metadata": {
            "tags": []
          },
          "execution_count": 27
        }
      ]
    },
    {
      "cell_type": "code",
      "metadata": {
        "colab": {
          "base_uri": "https://localhost:8080/"
        },
        "id": "JCG0NbsIDZ-P",
        "outputId": "e245de41-f221-4d3a-9e13-3731ea64fd1d"
      },
      "source": [
        "recommend_new_books(\"The Hunger Games\")"
      ],
      "execution_count": 28,
      "outputs": [
        {
          "output_type": "execute_result",
          "data": {
            "text/plain": [
              "['Mockingjay',\n",
              " 'The Hunger Games Box Set',\n",
              " 'Catching Fire',\n",
              " 'Hunger ',\n",
              " 'Forbidden',\n",
              " 'The Long Walk',\n",
              " 'Private Games ',\n",
              " \"Trickster's Queen\",\n",
              " 'Head Games ',\n",
              " 'How to Talk to a Widower']"
            ]
          },
          "metadata": {
            "tags": []
          },
          "execution_count": 28
        }
      ]
    }
  ]
}