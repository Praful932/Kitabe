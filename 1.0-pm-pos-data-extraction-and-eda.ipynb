{
 "cells": [
  {
   "cell_type": "code",
   "execution_count": 1,
   "id": "3ba11b58",
   "metadata": {},
   "outputs": [],
   "source": [
    "import re\n",
    "import os\n",
    "import glob\n",
    "import conllu\n",
    "import zipfile\n",
    "import tarfile\n",
    "import collections\n",
    "\n",
    "import numpy as np\n",
    "import pandas as pd\n",
    "import seaborn as sns\n",
    "\n",
    "from tqdm.notebook import tqdm\n",
    "from dataclasses import dataclass\n",
    "\n",
    "\n",
    "@dataclass\n",
    "class Config:\n",
    "    SEED = 42\n",
    "\n",
    "\n",
    "config = Config()\n",
    "\n",
    "\n",
    "def mkdirs(path):\n",
    "    if \".\" in path:\n",
    "        path = \"/\".join(path.split(\"/\")[:-1])\n",
    "    if not os.path.exists(path):\n",
    "        os.makedirs(path)"
   ]
  },
  {
   "cell_type": "code",
   "execution_count": 2,
   "id": "d25dbcc1",
   "metadata": {},
   "outputs": [
    {
     "data": {
      "application/vnd.jupyter.widget-view+json": {
       "model_id": "7d03c5ed4b8040329c256c12330eef3f",
       "version_major": 2,
       "version_minor": 0
      },
      "text/plain": [
       "  0%|          | 0/1835 [00:00<?, ?it/s]"
      ]
     },
     "metadata": {},
     "output_type": "display_data"
    }
   ],
   "source": [
    "POS_DATA_PATH = \"../../../data/pos/raw/1.0-Universal-Dependencies-2.9/Universal Dependencies 2.9.zip\"\n",
    "INTERIM_EXTRACT_PATH = \"../../../data/pos/interim/1.0-Universal-Dependencies-2.9/\"\n",
    "ZIP_EXTRACT_PATH = os.path.join(INTERIM_EXTRACT_PATH, \"ud-treebanks-v2.9.tgz\")\n",
    "\n",
    "mkdirs(ZIP_EXTRACT_PATH)\n",
    "\n",
    "if not os.path.exists(ZIP_EXTRACT_PATH):\n",
    "    with zipfile.ZipFile(POS_DATA_PATH, \"r\") as zip_ref:\n",
    "        zip_ref.extract(\"ud-treebanks-v2.9.tgz\", INTERIM_EXTRACT_PATH)\n",
    "\n",
    "\n",
    "def extract_tar(file_path, dest):\n",
    "    file_re = re.compile(r\"hindi\")\n",
    "    with tarfile.open(file_path) as tar:\n",
    "        for member in tqdm(tar.getmembers()):\n",
    "            if file_re.search(member.name.lower()):\n",
    "                member.name = re.sub(r\"ud-treebanks-v2.9/\", r\"\", member.name)\n",
    "                if not os.path.exists(os.path.join(dest, member.name)):\n",
    "                    tar.extract(member, dest)\n",
    "\n",
    "\n",
    "extract_tar(ZIP_EXTRACT_PATH, INTERIM_EXTRACT_PATH)\n",
    "os.remove(ZIP_EXTRACT_PATH)"
   ]
  },
  {
   "cell_type": "markdown",
   "id": "involved-philadelphia",
   "metadata": {},
   "source": [
    "### UD_HINDI-HDTB"
   ]
  },
  {
   "cell_type": "code",
   "execution_count": 3,
   "id": "a882ab3e",
   "metadata": {},
   "outputs": [],
   "source": [
    "FOLDER_PATH = \"../../../data/pos/interim/1.0-Universal-Dependencies-2.9/UD_Hindi-HDTB/\"\n",
    "UD_HINDI_HDTB_TRAIN_PATH = os.path.join(FOLDER_PATH, \"hi_hdtb-ud-train.conllu\")\n",
    "UD_HINDI_HDTB_DEV_PATH = os.path.join(FOLDER_PATH, \"hi_hdtb-ud-dev.conllu\")\n",
    "UD_HINDI_HDTB_TEST_PATH = os.path.join(FOLDER_PATH, \"hi_hdtb-ud-test.conllu\")\n",
    "\n",
    "\n",
    "def parse_conllu(PATH):\n",
    "    with open(PATH, \"r\", encoding=\"utf-8\") as f:\n",
    "        data = f.read()\n",
    "    return conllu.parse(data)\n",
    "\n",
    "\n",
    "ud_hindi_hdtb_train = parse_conllu(UD_HINDI_HDTB_TRAIN_PATH)\n",
    "ud_hindi_hdtb_dev = parse_conllu(UD_HINDI_HDTB_DEV_PATH)\n",
    "ud_hindi_hdtb_test = parse_conllu(UD_HINDI_HDTB_TEST_PATH)"
   ]
  },
  {
   "cell_type": "code",
   "execution_count": 4,
   "id": "43e04858",
   "metadata": {},
   "outputs": [
    {
     "name": "stdout",
     "output_type": "stream",
     "text": [
      "Total train samples : 13304\n",
      "Total val samples : 1659\n",
      "Total test samples : 1684\n"
     ]
    }
   ],
   "source": [
    "print(f\"Total train samples : {len(ud_hindi_hdtb_train)}\")\n",
    "print(f\"Total val samples : {len(ud_hindi_hdtb_dev)}\")\n",
    "print(f\"Total test samples : {len(ud_hindi_hdtb_test)}\")"
   ]
  },
  {
   "cell_type": "code",
   "execution_count": 5,
   "id": "78e79310",
   "metadata": {},
   "outputs": [
    {
     "data": {
      "text/plain": [
       "[TokenList<यह, एशिया, की, सबसे, बड़ी, मस्जिदों, में, से, एक, है, ।>,\n",
       " TokenList<इसे, नवाब, शाहजेहन, ने, बनवाया, था, ।>,\n",
       " TokenList<इसका, प्रवेश, द्वार, दो, मंजिला, है, ।>,\n",
       " TokenList<जिसमें, चार, मेहराबें, हैं, और, मुख्य, प्रार्थना, हॉल, में, जाने, के, लिए, 9, प्रवेश, द्वार, हैं, ।>,\n",
       " TokenList<पूरी, इमारत, बेहद, खूबसूरत, है, ।>]"
      ]
     },
     "execution_count": 5,
     "metadata": {},
     "output_type": "execute_result"
    }
   ],
   "source": [
    "ud_hindi_hdtb_train[:5]"
   ]
  },
  {
   "cell_type": "code",
   "execution_count": 6,
   "id": "e86626ac",
   "metadata": {},
   "outputs": [
    {
     "data": {
      "text/plain": [
       "[{'id': 1,\n",
       "  'form': 'यह',\n",
       "  'lemma': 'यह',\n",
       "  'upos': 'DET',\n",
       "  'xpos': 'DEM',\n",
       "  'feats': {'Case': 'Nom', 'Number': 'Sing', 'Person': '3', 'PronType': 'Dem'},\n",
       "  'head': 2,\n",
       "  'deprel': 'det',\n",
       "  'deps': None,\n",
       "  'misc': {'ChunkId': 'NP', 'ChunkType': 'child', 'Translit': 'yaha'}},\n",
       " {'id': 2,\n",
       "  'form': 'एशिया',\n",
       "  'lemma': 'एशिया',\n",
       "  'upos': 'PROPN',\n",
       "  'xpos': 'NNP',\n",
       "  'feats': {'Case': 'Acc', 'Gender': 'Masc', 'Number': 'Sing', 'Person': '3'},\n",
       "  'head': 6,\n",
       "  'deprel': 'nmod',\n",
       "  'deps': None,\n",
       "  'misc': {'Vib': '0_का',\n",
       "   'Tam': '0',\n",
       "   'ChunkId': 'NP',\n",
       "   'ChunkType': 'head',\n",
       "   'Translit': 'eśiyā'}}]"
      ]
     },
     "execution_count": 6,
     "metadata": {},
     "output_type": "execute_result"
    }
   ],
   "source": [
    "ud_hindi_hdtb_train[0][:2]"
   ]
  },
  {
   "cell_type": "markdown",
   "id": "d3ee5b39",
   "metadata": {},
   "source": [
    "#### Avg Sent Length"
   ]
  },
  {
   "cell_type": "code",
   "execution_count": 7,
   "id": "4e3cda2e",
   "metadata": {},
   "outputs": [
    {
     "data": {
      "application/vnd.jupyter.widget-view+json": {
       "model_id": "34b1bfa4cb7b42a7b26b914e7349f680",
       "version_major": 2,
       "version_minor": 0
      },
      "text/plain": [
       "  0%|          | 0/13304 [00:00<?, ?it/s]"
      ]
     },
     "metadata": {},
     "output_type": "display_data"
    },
    {
     "data": {
      "image/png": "[encoded data removed]",
      "text/plain": [
       "<Figure size 360x360 with 1 Axes>"
      ]
     },
     "metadata": {
      "needs_background": "light"
     },
     "output_type": "display_data"
    }
   ],
   "source": [
    "hindi_hdtb_avg_sent_length = [\n",
    "    len(s.metadata[\"text\"]) for s in tqdm(ud_hindi_hdtb_train)\n",
    "]\n",
    "sns.displot(hindi_hdtb_avg_sent_length);"
   ]
  },
  {
   "cell_type": "code",
   "execution_count": 8,
   "id": "a228bca1",
   "metadata": {},
   "outputs": [],
   "source": [
    "def get_pos_count(data):\n",
    "    tag_counter = collections.Counter()\n",
    "    tagged_word_counter = collections.Counter()\n",
    "    # pos to words\n",
    "    pos_word_counter = collections.defaultdict(collections.Counter)\n",
    "    # words to pos\n",
    "    word_pos_counter = collections.defaultdict(collections.Counter)\n",
    "\n",
    "    for sent in data:\n",
    "        for word in sent:\n",
    "            tag_counter.update({word[\"upos\"]: 1})\n",
    "            tagged_word_counter.update({word[\"form\"]: 1})\n",
    "            pos_word_counter[word[\"upos\"]].update({word[\"form\"]: 1})\n",
    "            word_pos_counter[word[\"form\"]].update({word[\"upos\"]: 1})\n",
    "\n",
    "    return (\n",
    "        tag_counter,\n",
    "        tagged_word_counter,\n",
    "        pos_word_counter,\n",
    "        list(word_pos_counter.items()),\n",
    "    )\n",
    "\n",
    "\n",
    "(\n",
    "    hindi_hdtb_tag_counter,\n",
    "    hindi_hdtb_tagged_word_counter,\n",
    "    hindi_hdtb_pos_word_counter,\n",
    "    hindi_hdtb_word_pos_counter,\n",
    ") = get_pos_count(ud_hindi_hdtb_train)"
   ]
  },
  {
   "cell_type": "code",
   "execution_count": 9,
   "id": "13b609a5",
   "metadata": {},
   "outputs": [
    {
     "data": {
      "text/plain": [
       "[('NOUN', 62191),\n",
       " ('ADP', 59221),\n",
       " ('PROPN', 34289),\n",
       " ('VERB', 27188),\n",
       " ('AUX', 20821),\n",
       " ('PUNCT', 18668),\n",
       " ('ADJ', 16459),\n",
       " ('PRON', 11857),\n",
       " ('DET', 6081),\n",
       " ('PART', 5610),\n",
       " ('SCONJ', 5389),\n",
       " ('NUM', 5332),\n",
       " ('CCONJ', 5110),\n",
       " ('ADV', 2703),\n",
       " ('X', 135),\n",
       " ('INTJ', 3)]"
      ]
     },
     "execution_count": 9,
     "metadata": {},
     "output_type": "execute_result"
    }
   ],
   "source": [
    "# Count of POS Tags\n",
    "hindi_hdtb_tag_counter.most_common()"
   ]
  },
  {
   "cell_type": "code",
   "execution_count": 10,
   "id": "7e5aa47e",
   "metadata": {},
   "outputs": [
    {
     "data": {
      "text/plain": [
       "[('के', 12669),\n",
       " ('में', 8416),\n",
       " ('की', 6476),\n",
       " ('को', 6006),\n",
       " ('ने', 4889),\n",
       " ('से', 4653),\n",
       " ('का', 3514),\n",
       " ('पर', 3238),\n",
       " ('लिए', 1773),\n",
       " ('तक', 673)]"
      ]
     },
     "execution_count": 10,
     "metadata": {},
     "output_type": "execute_result"
    }
   ],
   "source": [
    "# count of words per tag\n",
    "pos = \"ADP\"\n",
    "hindi_hdtb_pos_word_counter[pos].most_common(10)"
   ]
  },
  {
   "cell_type": "code",
   "execution_count": 11,
   "id": "172ecd6d",
   "metadata": {},
   "outputs": [
    {
     "data": {
      "text/plain": [
       "('बड़ी', Counter({'ADJ': 74, 'PROPN': 2, 'X': 1}))"
      ]
     },
     "execution_count": 11,
     "metadata": {},
     "output_type": "execute_result"
    }
   ],
   "source": [
    "# One word can have more than one tag\n",
    "hindi_hdtb_word_pos_counter[4]"
   ]
  },
  {
   "cell_type": "code",
   "execution_count": 12,
   "id": "1afbc19f",
   "metadata": {},
   "outputs": [
    {
     "name": "stdout",
     "output_type": "stream",
     "text": [
      "Unique tagged words : 16879\n",
      "Total tagged words - 281057\n",
      "Total words in corpus - 281057\n",
      "\n"
     ]
    },
    {
     "data": {
      "text/plain": [
       "[('के', 12712),\n",
       " ('।', 12160),\n",
       " ('में', 8421),\n",
       " ('की', 7475),\n",
       " ('है', 6913),\n",
       " ('को', 6006),\n",
       " ('ने', 4889),\n",
       " ('से', 4747),\n",
       " ('कि', 4421),\n",
       " ('का', 3517)]"
      ]
     },
     "execution_count": 12,
     "metadata": {},
     "output_type": "execute_result"
    }
   ],
   "source": [
    "print(f\"Unique tagged words : {len(hindi_hdtb_tagged_word_counter)}\")\n",
    "print(\n",
    "    f\"Total tagged words - {sum([count for word, count in hindi_hdtb_tagged_word_counter.most_common()])}\"\n",
    ")\n",
    "print(f\"Total words in corpus - {sum([len(sent) for sent in ud_hindi_hdtb_train])}\")\n",
    "print()\n",
    "\n",
    "# Most tagged words\n",
    "hindi_hdtb_tagged_word_counter.most_common(10)"
   ]
  },
  {
   "cell_type": "markdown",
   "id": "f3ef1a83",
   "metadata": {},
   "source": [
    "### UD_HINDI_PUD"
   ]
  },
  {
   "cell_type": "code",
   "execution_count": 13,
   "id": "fa95d176",
   "metadata": {},
   "outputs": [],
   "source": [
    "HINDI_PUD_FOLDER_PATH = (\n",
    "    \"../../../data/pos/interim/1.0-Universal-Dependencies-2.9/UD_Hindi-PUD/\"\n",
    ")\n",
    "UD_HINDI_PUD_TEST_PATH = os.path.join(HINDI_PUD_FOLDER_PATH, \"hi_pud-ud-test.conllu\")\n",
    "\n",
    "ud_hindi_pud_test = parse_conllu(UD_HINDI_PUD_TEST_PATH)"
   ]
  },
  {
   "cell_type": "code",
   "execution_count": 14,
   "id": "248b3ed0",
   "metadata": {},
   "outputs": [
    {
     "name": "stdout",
     "output_type": "stream",
     "text": [
      "Total test samples : 1000\n"
     ]
    },
    {
     "data": {
      "text/plain": [
       "[TokenList<“, संयुक्त, राज्य, अमेरिका, में, ज्यादातर, डिजिटल, संक्रमण, (, ट्रांजिशन, ), जितने, अभूतपूर्व, ढंग, से, हुआ, है, ,, सत्ता, का, शान्तिपूर्ण, संक्रमण, उतना, नहीं, हुआ, ,, ”, ओबामा, के, विशेष, सहायक, कोरी, शुमैन, ने, सोमवार, को, एक, ब्लॉग, पोस्ट, में, लिखा, ।>,\n",
       " TokenList<कैपिटल, हिल, में, परिवर्तन, के, संबंध, में, सोशल, मीडिया, पर, नजर, रखने, वाले, लोगों, के, लिए, ,, यह, थोड़ा, अलग, होगा, ।>,\n",
       " TokenList<लेकिन, आव्रजन, में, कटौती, के, बारे, में, अपनी, अतीत, की, बयानबाजी, पर, रोक, लगाते, हुए, ,, GOP, नामित, व्यक्ति, ने, घोषणा, की, है, कि, वह, एक, \", योग्यता, प्रणाली, \", के, आधार, पर, \", भारी, संख्या, \", में, कानूनी, आप्रवासियों, को, अनुमति, देगा, ।>,\n",
       " TokenList<उत्तरी, कैरोलिना, विश्वविद्यालय, के, खेल, मैदान, पर, एकत्र, भीड़, को, संबोधित, करते, हुए, उन्होंने, कहा, ,, “, इसलिए, मैं, आप, लोगों, पर, थोड़ा, भी, दबाव, डालने, से, नफरत, करता, हूं, ,, लेकिन, गणराज्य, की, किस्मत, आपके, कंधों, पर, टिकी, है, ।, ”>,\n",
       " TokenList<क्लिंटन, के, बड़े, बैंक, खाते, की, वजह, से, नये, खर्च, में, वृद्धि, हुई, है, ।>]"
      ]
     },
     "execution_count": 14,
     "metadata": {},
     "output_type": "execute_result"
    }
   ],
   "source": [
    "print(f\"Total test samples : {len(ud_hindi_pud_test)}\")\n",
    "ud_hindi_pud_test[:5]"
   ]
  },
  {
   "cell_type": "code",
   "execution_count": 15,
   "id": "af2d1fa6",
   "metadata": {},
   "outputs": [
    {
     "data": {
      "text/plain": [
       "[{'id': 1,\n",
       "  'form': '“',\n",
       "  'lemma': '_',\n",
       "  'upos': 'PUNCT',\n",
       "  'xpos': '``',\n",
       "  'feats': None,\n",
       "  'head': 16,\n",
       "  'deprel': 'punct',\n",
       "  'deps': None,\n",
       "  'misc': {'SpaceAfter': 'No', 'Translit': '“'}},\n",
       " {'id': 2,\n",
       "  'form': 'संयुक्त',\n",
       "  'lemma': '_',\n",
       "  'upos': 'ADJ',\n",
       "  'xpos': 'JJ',\n",
       "  'feats': None,\n",
       "  'head': 4,\n",
       "  'deprel': 'amod',\n",
       "  'deps': None,\n",
       "  'misc': {'Proper': 'True', 'Translit': 'saṁyukta'}}]"
      ]
     },
     "execution_count": 15,
     "metadata": {},
     "output_type": "execute_result"
    }
   ],
   "source": [
    "ud_hindi_pud_test[0][:2]"
   ]
  },
  {
   "cell_type": "code",
   "execution_count": 16,
   "id": "df1490cc",
   "metadata": {},
   "outputs": [
    {
     "data": {
      "application/vnd.jupyter.widget-view+json": {
       "model_id": "bf72a2170ef845dc8e219faefbd344af",
       "version_major": 2,
       "version_minor": 0
      },
      "text/plain": [
       "  0%|          | 0/1000 [00:00<?, ?it/s]"
      ]
     },
     "metadata": {},
     "output_type": "display_data"
    },
    {
     "data": {
      "image/png": "[encoded data removed]",
      "text/plain": [
       "<Figure size 360x360 with 1 Axes>"
      ]
     },
     "metadata": {
      "needs_background": "light"
     },
     "output_type": "display_data"
    }
   ],
   "source": [
    "hindi_pud_avg_sent_length = [len(s.metadata[\"text\"]) for s in tqdm(ud_hindi_pud_test)]\n",
    "sns.displot(hindi_pud_avg_sent_length);"
   ]
  },
  {
   "cell_type": "code",
   "execution_count": 17,
   "id": "14ec82ed",
   "metadata": {},
   "outputs": [],
   "source": [
    "(\n",
    "    hindi_pud_tag_counter,\n",
    "    hindi_pud_tagged_word_counter,\n",
    "    hindi_pud_pos_word_counter,\n",
    "    hindi_pud_word_pos_counter,\n",
    ") = get_pos_count(ud_hindi_pud_test)"
   ]
  },
  {
   "cell_type": "code",
   "execution_count": 18,
   "id": "3ef9dd42",
   "metadata": {},
   "outputs": [
    {
     "data": {
      "text/plain": [
       "[('NOUN', 5597),\n",
       " ('ADP', 4849),\n",
       " ('PUNCT', 2297),\n",
       " ('VERB', 2058),\n",
       " ('ADJ', 1995),\n",
       " ('AUX', 1776),\n",
       " ('PROPN', 1358),\n",
       " ('PRON', 1128),\n",
       " ('DET', 876),\n",
       " ('CCONJ', 545),\n",
       " ('NUM', 452),\n",
       " ('SCONJ', 382),\n",
       " ('PART', 316),\n",
       " ('ADV', 159),\n",
       " ('SYM', 30),\n",
       " ('X', 11)]"
      ]
     },
     "execution_count": 18,
     "metadata": {},
     "output_type": "execute_result"
    }
   ],
   "source": [
    "# Count of POS Tags\n",
    "hindi_pud_tag_counter.most_common()"
   ]
  },
  {
   "cell_type": "code",
   "execution_count": 19,
   "id": "d2aaf0aa",
   "metadata": {},
   "outputs": [
    {
     "data": {
      "text/plain": [
       "[('और', 424),\n",
       " ('लेकिन', 67),\n",
       " ('या', 38),\n",
       " ('एवं', 10),\n",
       " ('तथा', 3),\n",
       " ('एंड', 2),\n",
       " ('बहरहाल', 1)]"
      ]
     },
     "execution_count": 19,
     "metadata": {},
     "output_type": "execute_result"
    }
   ],
   "source": [
    "# count of words per tag\n",
    "pos = \"CCONJ\"\n",
    "hindi_pud_pos_word_counter[pos].most_common(10)"
   ]
  },
  {
   "cell_type": "code",
   "execution_count": 20,
   "id": "772122ef",
   "metadata": {},
   "outputs": [
    {
     "data": {
      "text/plain": [
       "('है', Counter({'AUX': 402, 'VERB': 131}))"
      ]
     },
     "execution_count": 20,
     "metadata": {},
     "output_type": "execute_result"
    }
   ],
   "source": [
    "# One word can have more than one tag\n",
    "hindi_pud_word_pos_counter[16]"
   ]
  },
  {
   "cell_type": "code",
   "execution_count": 21,
   "id": "1d41cfe3",
   "metadata": {},
   "outputs": [
    {
     "name": "stdout",
     "output_type": "stream",
     "text": [
      "Unique tagged words : 5151\n",
      "Total tagged words - 23829\n",
      "Total words in corpus - 23829\n",
      "\n"
     ]
    },
    {
     "data": {
      "text/plain": [
       "[('के', 998),\n",
       " ('।', 982),\n",
       " ('में', 825),\n",
       " (',', 810),\n",
       " ('है', 533),\n",
       " ('की', 509),\n",
       " ('और', 438),\n",
       " ('से', 398),\n",
       " ('को', 371),\n",
       " ('का', 319)]"
      ]
     },
     "execution_count": 21,
     "metadata": {},
     "output_type": "execute_result"
    }
   ],
   "source": [
    "print(f\"Unique tagged words : {len(hindi_pud_tagged_word_counter)}\")\n",
    "print(\n",
    "    f\"Total tagged words - {sum([count for word, count in hindi_pud_tagged_word_counter.most_common()])}\"\n",
    ")\n",
    "print(f\"Total words in corpus - {sum([len(sent) for sent in ud_hindi_pud_test])}\")\n",
    "print()\n",
    "\n",
    "# Most tagged words\n",
    "hindi_pud_tagged_word_counter.most_common(10)"
   ]
  },
  {
   "cell_type": "markdown",
   "id": "e0afb6fd",
   "metadata": {},
   "source": [
    "#### Thoughts\n",
    "1. Sentences are relatively short across the whole corpus.\n",
    "2. There is a good amount of imbalance in the tags that needs to be taken care of.\n",
    "3. Both Datasets have relatively same sentence length distribution, At dataset creation time, sampling should be done appropriately."
   ]
  },
  {
   "cell_type": "code",
   "execution_count": null,
   "id": "2c3ff079",
   "metadata": {},
   "outputs": [],
   "source": []
  }
 ],
 "metadata": {
  "kernelspec": {
   "display_name": "Python 3 (ipykernel)",
   "language": "python",
   "name": "python3"
  },
  "language_info": {
   "codemirror_mode": {
    "name": "ipython",
    "version": 3
   },
   "file_extension": ".py",
   "mimetype": "text/x-python",
   "name": "python",
   "nbconvert_exporter": "python",
   "pygments_lexer": "ipython3",
   "version": "3.8.6"
  }
 },
 "nbformat": 4,
 "nbformat_minor": 5
}
